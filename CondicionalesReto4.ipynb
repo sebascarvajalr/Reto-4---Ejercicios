{
  "nbformat": 4,
  "nbformat_minor": 0,
  "metadata": {
    "colab": {
      "provenance": [],
      "authorship_tag": "ABX9TyOJBhHMRGGDcv+FcOGzJDh3",
      "include_colab_link": true
    },
    "kernelspec": {
      "name": "python3",
      "display_name": "Python 3"
    },
    "language_info": {
      "name": "python"
    }
  },
  "cells": [
    {
      "cell_type": "markdown",
      "metadata": {
        "id": "view-in-github",
        "colab_type": "text"
      },
      "source": [
        "<a href=\"https://colab.research.google.com/github/sebascarvajalr/Reto-4---Ejercicios/blob/main/CondicionalesReto4.ipynb\" target=\"_parent\"><img src=\"https://colab.research.google.com/assets/colab-badge.svg\" alt=\"Open In Colab\"/></a>"
      ]
    },
    {
      "cell_type": "markdown",
      "source": [
        "# Reto 4 - Condicionales en Python\n",
        "\n",
        "### Se resolveran los siguientes problemas a través del uso de condiconales.\n"
      ],
      "metadata": {
        "id": "izxwGsTMKcsK"
      }
    },
    {
      "cell_type": "markdown",
      "source": [
        "Problema 1: Dado un número entero, determinar si ese número corresponde al código ASCII de una vocal minúscula."
      ],
      "metadata": {
        "id": "ig2Ec3WsMZ85"
      }
    },
    {
      "cell_type": "code",
      "source": [
        "n = int\n",
        "n = int(input(\"Ingrese un numero entero: \")) # Conversión a entero\n",
        "if n == 97:\n",
        "    print(\"La vocal minúscula en código ASCII es: a\")\n",
        "elif n == 101:\n",
        "    print(\"La vocal minúscula en código ASCII es: e\")\n",
        "elif n == 105:\n",
        "    print(\"La vocal minúscula en código ASCII es: i\")\n",
        "elif n == 111:\n",
        "    print(\"La vocal minúscula en código ASCII es: o\")\n",
        "elif n == 117:\n",
        "    print(\"La vocal minúscula en código ASCII es: u\")\n",
        "\n",
        "else:\n",
        "  if n < 97:\n",
        "    print(\"El número ingresado no corresponde a una vocal minúscula en código ASCII\")\n",
        "  if n > 97 and n < 101:\n",
        "    print(\"El número ingresado no corresponde a una vocal minúscula en código ASCII\")\n",
        "  if n > 101 and n < 105:\n",
        "    print(\"El número ingresado no corresponde a una vocal minúscula en código ASCII\")\n",
        "  if n > 105 and n < 111:\n",
        "    print(\"El número ingresado no corresponde a una vocal minúscula en código ASCII\")\n",
        "  if n > 111 and n < 117:\n",
        "    print(\"El número ingresado no corresponde a una vocal minúscula en código ASCII\")\n",
        "  if n > 117:\n",
        "    print(\"El número ingresado no corresponde a una vocal minúscula en código ASCII\")\n",
        "\n",
        "print(n)\n"
      ],
      "metadata": {
        "colab": {
          "base_uri": "https://localhost:8080/"
        },
        "id": "aduchueEMg5y",
        "outputId": "aba98966-958a-45f3-b1f1-1e3210cdfc48"
      },
      "execution_count": null,
      "outputs": [
        {
          "output_type": "stream",
          "name": "stdout",
          "text": [
            "Ingrese un numero entero: 97\n",
            "La vocal minúscula en código ASCII es: a\n",
            "97\n"
          ]
        }
      ]
    },
    {
      "cell_type": "markdown",
      "source": [
        "Problema 2: Dada una cadena de longitud 1, determine si el código ASCII de primera letra de la cadena es par o no."
      ],
      "metadata": {
        "id": "GSo2lJbTjylz"
      }
    },
    {
      "cell_type": "code",
      "source": [
        "cadena = input(\"Ingresa un carácter ASCII: \")\n",
        "caracter = cadena[0]\n",
        "codigo_ascii = ord(caracter)\n",
        "if codigo_ascii % 2 == 0:\n",
        "    print(\"El residuo de la división es 0, por lo que el código ASCII es Par.\")\n",
        "else:\n",
        "    print(\"El residuo de la división no es 0, por lo que el código ASCII es Impar.\")\n"
      ],
      "metadata": {
        "colab": {
          "base_uri": "https://localhost:8080/"
        },
        "id": "3MrIPpNCHtTh",
        "outputId": "c36b9bb5-423b-4d2d-8e9e-9af3d7466957"
      },
      "execution_count": null,
      "outputs": [
        {
          "output_type": "stream",
          "name": "stdout",
          "text": [
            "Ingresa un carácter ASCII: f\n",
            "El residuo de la división es 0, por lo que el código ASCII es Par.\n"
          ]
        }
      ]
    },
    {
      "cell_type": "markdown",
      "source": [
        "Problema 3: Dado un carácter, construya un programa en Python para determinar si el carácter es un dígito o no."
      ],
      "metadata": {
        "id": "w1DS133eMQMR"
      }
    },
    {
      "cell_type": "code",
      "source": [
        "caracter = input(\"Ingresa un carácter: \")\n",
        "if caracter.isdigit():\n",
        "    print(\"El carácter es un dígito.\")\n",
        "else:\n",
        "    print(\"El carácter no es un dígito.\")\n",
        "\n",
        "print(caracter)"
      ],
      "metadata": {
        "colab": {
          "base_uri": "https://localhost:8080/"
        },
        "id": "0FWHmI4oMYAw",
        "outputId": "77fa22fc-070f-4a6d-ff40-8110ea53a17b"
      },
      "execution_count": null,
      "outputs": [
        {
          "output_type": "stream",
          "name": "stdout",
          "text": [
            "Ingresa un carácter: r\n",
            "El carácter no es un dígito.\n",
            "r\n"
          ]
        }
      ]
    },
    {
      "cell_type": "markdown",
      "source": [
        "Problema 4: Realice un programa que lea dos números reales y determine si el primero es múltiplo del segundo."
      ],
      "metadata": {
        "id": "f5oo-ZDINZ0n"
      }
    },
    {
      "cell_type": "code",
      "source": [
        "a : float\n",
        "b : float\n",
        "a = float(input(\"Ingrese el primer número: \"))\n",
        "b = float(input(\"Ingrese el segundo número: \"))\n",
        "if a % b == 0:\n",
        "    print(\"El primer número es múltiplo del segundo.\")\n",
        "else:\n",
        "    print(\"El primer número no es múltiplo del segundo.\")\n",
        "\n",
        "print(a, b)"
      ],
      "metadata": {
        "colab": {
          "base_uri": "https://localhost:8080/"
        },
        "id": "ofM8SlsMNuOJ",
        "outputId": "516c93b5-c6ab-4d22-c8ec-ca9bde28e4f0"
      },
      "execution_count": null,
      "outputs": [
        {
          "output_type": "stream",
          "name": "stdout",
          "text": [
            "Ingrese el primer número: 50\n",
            "Ingrese el segundo número: 2\n",
            "El primer número es múltiplo del segundo.\n",
            "50.0 2.0\n"
          ]
        }
      ]
    },
    {
      "cell_type": "markdown",
      "source": [
        "Problema 5: Dado un número real x, construya un programa que permita determinar si el número es positivo, negativo o cero. Para cada caso de debe imprimir el texto que se especifica a continuación:"
      ],
      "metadata": {
        "id": "EDL4WDgjPLky"
      }
    },
    {
      "cell_type": "code",
      "source": [
        "n : float\n",
        "n = float(input(\"Ingrese un número real:\"))\n",
        "if n > 0:\n",
        "    print(\"El número \" + str(n)+ \" es positivo\")\n",
        "else:\n",
        "  if n < 0:\n",
        "    print(\"El número \" + str(n)+ \" es negativo\")\n",
        "  if n == 0:\n",
        "    print(\"El número \" + str(n)+ \" es el neutro para la suma\")\n",
        "print(n)"
      ],
      "metadata": {
        "colab": {
          "base_uri": "https://localhost:8080/"
        },
        "id": "C9RzGVbSPRM7",
        "outputId": "41d1e57e-efa2-44d4-db97-5e506cf27bdb"
      },
      "execution_count": null,
      "outputs": [
        {
          "output_type": "stream",
          "name": "stdout",
          "text": [
            "Ingrese un número real:0\n",
            "El número 0.0 es el neutro para la suma\n",
            "0.0\n"
          ]
        }
      ]
    },
    {
      "cell_type": "markdown",
      "source": [
        "Problema 6: Dado el centro y el radio de un círculo, determinar si un punto de R2 pertenece o no al interior del círculo."
      ],
      "metadata": {
        "id": "PZ1p3eyUSh6L"
      }
    },
    {
      "cell_type": "code",
      "source": [
        "coordenada_x : float\n",
        "coordenada_y : float\n",
        "punto_x : float\n",
        "punto_y : float\n",
        "radio : float\n",
        "\n",
        "coordenada_x = float(input(\"Ingrese la coordenada x del centro del círculo: \"))\n",
        "coordenada_y = float(input(\"Ingrese la coordenada y del centro del círculo: \"))\n",
        "punto_x = float(input(\"Ingrese la coordenada x del punto: \"))\n",
        "punto_y = float(input(\"Ingrese la coordenada y del punto: \"))\n",
        "radio = float(input(\"Ingrese el radio del círculo: \"))\n",
        "\n",
        "distancia_cuadrada = (punto_x - coordenada_x)**2 + (punto_y - coordenada_y)**2\n",
        "radio_cuadrado = radio**2\n",
        "\n",
        "if distancia_cuadrada < radio_cuadrado:\n",
        "    print(\"El punto está dentro del círculo.\")\n",
        "elif distancia_cuadrada == radio_cuadrado:\n",
        "    print(\"El punto está sobre el círculo.\")\n",
        "else:\n",
        "    print(\"El punto está fuera del círculo.\")"
      ],
      "metadata": {
        "colab": {
          "base_uri": "https://localhost:8080/"
        },
        "id": "7Q5RQATdSuzT",
        "outputId": "1e3945e2-538e-4199-b8d2-278de89129a6"
      },
      "execution_count": 7,
      "outputs": [
        {
          "output_type": "stream",
          "name": "stdout",
          "text": [
            "Ingrese la coordenada x del centro del círculo: 0\n",
            "Ingrese la coordenada y del centro del círculo: 0\n",
            "Ingrese la coordenada x del punto: 6\n",
            "Ingrese la coordenada y del punto: 6\n",
            "Ingrese el radio del círculo: 2\n",
            "El punto está fuera del círculo.\n"
          ]
        }
      ]
    },
    {
      "cell_type": "markdown",
      "source": [
        "Problea 7: Dadas tres longitudes positivas, determinar si con esas longitudes se puede construir un triángulo."
      ],
      "metadata": {
        "id": "awTTCsSAhE2L"
      }
    },
    {
      "cell_type": "code",
      "source": [
        "longitud1 : float\n",
        "longitud2 : float\n",
        "longitud3 : float\n",
        "longitud1 = float(input(\"Ingrese la primera longitud: \"))\n",
        "longitud2 = float(input(\"Ingrese la segunda longitud: \"))\n",
        "longitud3 = float(input(\"Ingrese la tercera longitud: \"))\n",
        "if (longitud1 + longitud2 > longitud3 and longitud1 + longitud3 > longitud2 and longitud2 + longitud3 > longitud1):\n",
        "    print(\"Se puede construir un triángulo con esas longitudes.\")\n",
        "else:\n",
        "    print(\"No se puede construir un triángulo con esas longitudes.\")\n",
        "\n",
        "print(longitud1, longitud2, longitud3)"
      ],
      "metadata": {
        "colab": {
          "base_uri": "https://localhost:8080/"
        },
        "id": "TEWA6nRrhJox",
        "outputId": "0033464a-2dc3-4333-a857-7578ceb5f003"
      },
      "execution_count": null,
      "outputs": [
        {
          "output_type": "stream",
          "name": "stdout",
          "text": [
            "Ingrese la primera longitud: -3\n",
            "Ingrese la segunda longitud: 2\n",
            "Ingrese la tercera longitud: 5\n",
            "No se puede construir un triángulo con esas longitudes.\n",
            "-3.0 2.0 5.0\n"
          ]
        }
      ]
    },
    {
      "cell_type": "markdown",
      "source": [
        "Problema 8: Escriba un programa que reciba el nombre en minúsculas de un país de America y retorne la ciudad capital, si el país no pertenece al continente debe arrojar país no identificado (Utilice match-case)."
      ],
      "metadata": {
        "id": "haaWVlwLneAt"
      }
    },
    {
      "cell_type": "code",
      "source": [
        "paisAmerica : str\n",
        "paisAmerica = input(\"Ingrese el nombre de un país de América en minúsculas: \")\n",
        "match paisAmerica:\n",
        "    case \"colombia\":\n",
        "        print(\"La ciudad capital de Colombia es Bogotá\")\n",
        "    case \"argentina\":\n",
        "        print(\"La ciudad capital de Argentina es Buenos Aires\")\n",
        "    case \"bolivia\":\n",
        "        print(\"La ciudad capital de Bolivia es Sucre\")\n",
        "    case \"brasil\":\n",
        "        print(\"La ciudad capital de Brasil es Brasilia\")\n",
        "    case \"chile\":\n",
        "        print(\"La ciudad capital de Chile es Santiago de Chile\")\n",
        "    case \"ecuador\":\n",
        "        print(\"La ciudad capital de Ecuador es Quito\")\n",
        "    case \"paraguay\":\n",
        "        print(\"La ciudad capital de Paraguay es Asunción\")\n",
        "    case \"peru\":\n",
        "        print(\"La ciudad capital de Perú es Lima\")\n",
        "    case \"surinam\":\n",
        "        print(\"La ciudad capital de Surinam es Parabarimo\")\n",
        "    case \"trinidad y tobago\":\n",
        "        print(\"La ciudad capital de Trinidad y Tobago es Puerto España\")\n",
        "    case \"uruguay\":\n",
        "        print(\"La ciudad capital de Uruguay es Montevideo\")\n",
        "    case \"venezuela\":\n",
        "        print(\"La ciudad capital de Venezuela es Caracas\")\n",
        "    case \"mexico\":\n",
        "        print(\"La ciudad capital de México es México DF\")\n",
        "    case \"Estados Unidos\":\n",
        "        print(\"La ciudad capital de Estados Unidos es Washington D.C.\")\n",
        "    case \"canada\":\n",
        "        print(\"La ciudad capital de Canadá es Otawwa\")\n",
        "    case \"belice\":\n",
        "        print(\"La ciudad capital de Belice es Belmopán\")\n",
        "    case \"costa rica\":\n",
        "        print(\"La ciudad capital de Costa Rica es San José\")\n",
        "    case \"guatemala\":\n",
        "        print(\"La ciudad capital de Guatemala es Ciudad de Guatemala\")\n",
        "    case \"honduras\":\n",
        "        print(\"La ciudad capital de Honduras es Tegucigalpa\")\n",
        "    case \"nicaragua\":\n",
        "        print(\"La ciudad capital de Nicaragua es Managua\")\n",
        "    case \"panama\":\n",
        "        print(\"La ciudad capital de Panamá es Panamá\")\n",
        "    case \"el salvador\":\n",
        "        print(\"La ciudad capital de El Salvador es San Salvador\")\n",
        "    case \"antigua y barbuda\":\n",
        "        print(\"La ciudad capital de Antigua y Barbuda es Saint John's\")\n",
        "    case \"bahamas\":\n",
        "        print(\"La ciudad capital de Bahamas es Nasáu\")\n",
        "    case \"barbados\":\n",
        "        print(\"La ciudad capital de Barbados es Bridgetown\")\n",
        "    case \"cuba\":\n",
        "        print(\"La ciudad capital de Cuba es La Habana\")\n",
        "    case \"dominica\":\n",
        "        print(\"La ciudad capital de Dominica es Roseau\")\n",
        "    case \"granada\":\n",
        "        print(\"La ciudad capital de Granada es Saint George's\")\n",
        "    case \"guyanas\":\n",
        "        print(\"La ciudad capital de Guyana es Georgetown\")\n",
        "    case \"haití\":\n",
        "        print(\"La ciudad capital de Haití es Puerto Príncipe\")\n",
        "    case \"jamaica\":\n",
        "        print(\"La ciudad capital de Jamaica es Kingston\")\n",
        "    case \"republica dominicana\":\n",
        "        print(\"La ciudad capital de República Dominicana es Santo Domingo\")\n",
        "    case \"san cristóbal y nieves\":\n",
        "        print(\"La ciudad capital de San Cristóbal y Nieves es Basseterre\")\n",
        "    case \"san vicente y las granadinas\":\n",
        "        print(\"La ciudad capital de San Vicente y las Granadinas es Kingstown\")\n",
        "    case \"santa lucía\":\n",
        "        print(\"La ciudad capital de Santa Lucía es Castries\")\n",
        "\n",
        "    case _:\n",
        "        print(\"País no identificado\")"
      ],
      "metadata": {
        "colab": {
          "base_uri": "https://localhost:8080/"
        },
        "id": "_GROlg9snnFT",
        "outputId": "2c4d9012-e21a-4b31-d59f-45da1d0de2be"
      },
      "execution_count": null,
      "outputs": [
        {
          "output_type": "stream",
          "name": "stdout",
          "text": [
            "Ingrese el nombre de un país de América en minúsculas: peru\n",
            "La ciudad capital de Perú es Lima\n"
          ]
        }
      ]
    }
  ]
}